{
 "cells": [
  {
   "cell_type": "code",
   "execution_count": 71,
   "metadata": {},
   "outputs": [],
   "source": [
    "import numpy as np\n",
    "import abandoned_bag_heuristic as abh"
   ]
  },
  {
   "cell_type": "code",
   "execution_count": 72,
   "metadata": {},
   "outputs": [],
   "source": [
    "box_frame_one = np.array([\n",
    "    [1., 1., 3., 3.],\n",
    "    [2., 2., 4., 4.],\n",
    "    [10., 1., 12., 3.]])\n",
    "\n",
    "labels_one = np.array([0, 28, 0])\n",
    "\n",
    "box_frame_two = np.array([\n",
    "    [2., 1., 4., 3.],\n",
    "    [9., 1., 11., 3.],\n",
    "    [2., 2., 4., 4.]])\n",
    "\n",
    "labels_two = np.array([0, 0, 28])\n",
    "\n",
    "box_frame_three = np.array([\n",
    "    [2., 1., 4., 3.],\n",
    "    [9., 1., 11., 3.],\n",
    "    [10., 2., 12., 4.],\n",
    "    [2., 2., 4., 4.]])\n",
    "\n",
    "labels_three = np.array([0, 0, 28, 28])"
   ]
  },
  {
   "cell_type": "code",
   "execution_count": 112,
   "metadata": {},
   "outputs": [],
   "source": [
    "import importlib\n",
    "importlib.reload(abh)\n",
    "dect = abh.SimpleTracker(2, 2)"
   ]
  },
  {
   "cell_type": "code",
   "execution_count": 113,
   "metadata": {},
   "outputs": [
    {
     "name": "stdout",
     "output_type": "stream",
     "text": [
      "[(0, 0), (1, 1)]\n",
      "[(0, 0)]\n"
     ]
    }
   ],
   "source": [
    "dect.update(box_frame_one, labels_one)"
   ]
  },
  {
   "cell_type": "code",
   "execution_count": 114,
   "metadata": {},
   "outputs": [
    {
     "name": "stdout",
     "output_type": "stream",
     "text": [
      "{0: 0}\n",
      "{0: 1.4142135623730951}\n"
     ]
    }
   ],
   "source": [
    "print(dect.bag_person_association)\n",
    "print(dect.bag_person_dist)"
   ]
  },
  {
   "cell_type": "code",
   "execution_count": 115,
   "metadata": {},
   "outputs": [
    {
     "name": "stdout",
     "output_type": "stream",
     "text": [
      "[(0, 0), (1, 1)]\n",
      "[(0, 0)]\n"
     ]
    }
   ],
   "source": [
    "dect.update(box_frame_two, labels_two)"
   ]
  },
  {
   "cell_type": "code",
   "execution_count": 116,
   "metadata": {},
   "outputs": [
    {
     "name": "stdout",
     "output_type": "stream",
     "text": [
      "{0: 0}\n",
      "{0: 1.0}\n"
     ]
    }
   ],
   "source": [
    "print(dect.bag_person_association)\n",
    "print(dect.bag_person_dist)"
   ]
  },
  {
   "cell_type": "code",
   "execution_count": 117,
   "metadata": {},
   "outputs": [
    {
     "name": "stdout",
     "output_type": "stream",
     "text": [
      "[(0, 0), (1, 1)]\n",
      "[(1, 0), (0, 1)]\n"
     ]
    }
   ],
   "source": [
    "\n",
    "dect.update(box_frame_three, labels_three)"
   ]
  },
  {
   "cell_type": "code",
   "execution_count": 118,
   "metadata": {},
   "outputs": [
    {
     "name": "stdout",
     "output_type": "stream",
     "text": [
      "{0: 0, 1: 1}\n",
      "{0: 1.0, 1: 1.4142135623730951}\n",
      "{'bags': array([1, 0]), 'persons': array([0, 1])}\n",
      "{'bags': OrderedDict([(0, array([3., 3., 0.])), (1, array([11.,  3.,  0.]))]), 'persons': OrderedDict([(0, array([3., 2., 0.])), (1, array([10.,  2.,  0.]))])}\n"
     ]
    }
   ],
   "source": [
    "print(dect.bag_person_association)\n",
    "print(dect.bag_person_dist)\n",
    "print(dect.prev_frame_ids)\n",
    "print(dect.all_centers)"
   ]
  },
  {
   "cell_type": "code",
   "execution_count": 119,
   "metadata": {},
   "outputs": [
    {
     "name": "stdout",
     "output_type": "stream",
     "text": [
      "{'bags': array([[11.,  3.,  0.],\n",
      "       [ 3.,  3.,  0.]]), 'persons': array([[ 3.,  2.,  0.],\n",
      "       [10.,  2.,  0.]])}\n"
     ]
    }
   ],
   "source": [
    "print(dect.prev_frame_centers)"
   ]
  },
  {
   "cell_type": "code",
   "execution_count": 62,
   "metadata": {},
   "outputs": [
    {
     "data": {
      "text/plain": [
       "array([11.,  3.,  0.])"
      ]
     },
     "execution_count": 62,
     "metadata": {},
     "output_type": "execute_result"
    }
   ],
   "source": [
    "dect.all_centers['bags'][0]"
   ]
  },
  {
   "cell_type": "code",
   "execution_count": 24,
   "metadata": {},
   "outputs": [
    {
     "data": {
      "text/plain": [
       "array([1, 6, 5])"
      ]
     },
     "execution_count": 24,
     "metadata": {},
     "output_type": "execute_result"
    }
   ],
   "source": [
    "np.array(sorted(a, key=lambda x: x[0]))[:, 1]"
   ]
  }
 ],
 "metadata": {
  "kernelspec": {
   "display_name": "Python 3",
   "language": "python",
   "name": "python3"
  },
  "language_info": {
   "codemirror_mode": {
    "name": "ipython",
    "version": 3
   },
   "file_extension": ".py",
   "mimetype": "text/x-python",
   "name": "python",
   "nbconvert_exporter": "python",
   "pygments_lexer": "ipython3",
   "version": "3.7.4"
  }
 },
 "nbformat": 4,
 "nbformat_minor": 4
}
